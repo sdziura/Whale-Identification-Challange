{
 "cells": [
  {
   "cell_type": "code",
   "execution_count": 1,
   "metadata": {
    "_cell_guid": "b1076dfc-b9ad-4769-8c92-a6c4dae69d19",
    "_uuid": "8f2839f25d086af736a60e9eeb907d3b93b6e0e5",
    "execution": {
     "iopub.execute_input": "2021-05-26T15:25:36.468835Z",
     "iopub.status.busy": "2021-05-26T15:25:36.468253Z",
     "iopub.status.idle": "2021-05-26T15:25:36.477289Z",
     "shell.execute_reply": "2021-05-26T15:25:36.476415Z",
     "shell.execute_reply.started": "2021-05-26T15:25:36.468781Z"
    }
   },
   "outputs": [],
   "source": [
    "import numpy as np # linear algebra\n",
    "import pandas as pd # data processing, CSV file I/O (e.g. pd.read_csv)\n",
    "import tensorflow as tf\n",
    "from numpy import array\n",
    "import sys\n",
    "from PIL import Image \n",
    "\n",
    "from keras import layers\n",
    "from keras.layers import Input, Dense, Activation, ZeroPadding2D, BatchNormalization, Flatten, Conv2D\n",
    "from keras.layers import AveragePooling2D, MaxPooling2D, Dropout, GlobalMaxPooling2D, GlobalAveragePooling2D\n",
    "from keras.models import Model\n",
    "from keras.preprocessing import image\n",
    "import random\n",
    "import pathlib\n",
    "from keras.applications.imagenet_utils import preprocess_input\n",
    "from keras.models import Sequential\n",
    "from keras import optimizers\n",
    "from sklearn.preprocessing import LabelEncoder\n",
    "from sklearn.preprocessing import OneHotEncoder\n",
    "from keras.applications.densenet import DenseNet121\n",
    "\n",
    "import os\n",
    "\n",
    "train_dir = 'train/'\n",
    "test_dir = 'test/'"
   ]
  },
  {
   "cell_type": "code",
   "execution_count": 2,
   "metadata": {
    "execution": {
     "iopub.execute_input": "2021-05-26T15:10:25.331365Z",
     "iopub.status.busy": "2021-05-26T15:10:25.331017Z",
     "iopub.status.idle": "2021-05-26T15:10:26.502019Z",
     "shell.execute_reply": "2021-05-26T15:10:26.500724Z",
     "shell.execute_reply.started": "2021-05-26T15:10:25.331334Z"
    }
   },
   "outputs": [
    {
     "name": "stdout",
     "output_type": "stream",
     "text": [
      "Total number of training images:  25362\n",
      "Toal number of test images:  7960\n"
     ]
    }
   ],
   "source": [
    "# Get the list of training files \n",
    "train = os.listdir(train_dir)\n",
    "# Get the list of test files\n",
    "test = os.listdir(test_dir)\n",
    "\n",
    "print(\"Total number of training images: \",len(train))\n",
    "print(\"Toal number of test images: \",len(test))"
   ]
  },
  {
   "cell_type": "code",
   "execution_count": 3,
   "metadata": {
    "execution": {
     "iopub.execute_input": "2021-05-26T15:10:26.504957Z",
     "iopub.status.busy": "2021-05-26T15:10:26.504468Z",
     "iopub.status.idle": "2021-05-26T15:10:26.578647Z",
     "shell.execute_reply": "2021-05-26T15:10:26.577317Z",
     "shell.execute_reply.started": "2021-05-26T15:10:26.504907Z"
    }
   },
   "outputs": [
    {
     "data": {
      "text/html": [
       "<div>\n",
       "<style scoped>\n",
       "    .dataframe tbody tr th:only-of-type {\n",
       "        vertical-align: middle;\n",
       "    }\n",
       "\n",
       "    .dataframe tbody tr th {\n",
       "        vertical-align: top;\n",
       "    }\n",
       "\n",
       "    .dataframe thead th {\n",
       "        text-align: right;\n",
       "    }\n",
       "</style>\n",
       "<table border=\"1\" class=\"dataframe\">\n",
       "  <thead>\n",
       "    <tr style=\"text-align: right;\">\n",
       "      <th></th>\n",
       "      <th>Image</th>\n",
       "      <th>Id</th>\n",
       "    </tr>\n",
       "  </thead>\n",
       "  <tbody>\n",
       "    <tr>\n",
       "      <th>0</th>\n",
       "      <td>0000e88ab.jpg</td>\n",
       "      <td>w_f48451c</td>\n",
       "    </tr>\n",
       "    <tr>\n",
       "      <th>1</th>\n",
       "      <td>0001f9222.jpg</td>\n",
       "      <td>w_c3d896a</td>\n",
       "    </tr>\n",
       "    <tr>\n",
       "      <th>2</th>\n",
       "      <td>00029d126.jpg</td>\n",
       "      <td>w_20df2c5</td>\n",
       "    </tr>\n",
       "    <tr>\n",
       "      <th>3</th>\n",
       "      <td>00050a15a.jpg</td>\n",
       "      <td>new_whale</td>\n",
       "    </tr>\n",
       "    <tr>\n",
       "      <th>4</th>\n",
       "      <td>0005c1ef8.jpg</td>\n",
       "      <td>new_whale</td>\n",
       "    </tr>\n",
       "  </tbody>\n",
       "</table>\n",
       "</div>"
      ],
      "text/plain": [
       "           Image         Id\n",
       "0  0000e88ab.jpg  w_f48451c\n",
       "1  0001f9222.jpg  w_c3d896a\n",
       "2  00029d126.jpg  w_20df2c5\n",
       "3  00050a15a.jpg  new_whale\n",
       "4  0005c1ef8.jpg  new_whale"
      ]
     },
     "execution_count": 3,
     "metadata": {},
     "output_type": "execute_result"
    }
   ],
   "source": [
    "# load training labels into a pandas dataframe\n",
    "train_labels = pd.read_csv('train.csv')\n",
    "train_labels.head()"
   ]
  },
  {
   "cell_type": "code",
   "execution_count": 4,
   "metadata": {
    "execution": {
     "iopub.execute_input": "2021-05-26T15:10:26.67016Z",
     "iopub.status.busy": "2021-05-26T15:10:26.66981Z",
     "iopub.status.idle": "2021-05-26T15:10:26.677987Z",
     "shell.execute_reply": "2021-05-26T15:10:26.675929Z",
     "shell.execute_reply.started": "2021-05-26T15:10:26.670123Z"
    }
   },
   "outputs": [],
   "source": [
    "batch_size = 32\n",
    "img_height = 100\n",
    "img_width = 100"
   ]
  },
  {
   "cell_type": "code",
   "execution_count": 5,
   "metadata": {
    "execution": {
     "iopub.execute_input": "2021-05-26T15:10:26.680365Z",
     "iopub.status.busy": "2021-05-26T15:10:26.680034Z",
     "iopub.status.idle": "2021-05-26T15:10:48.042237Z",
     "shell.execute_reply": "2021-05-26T15:10:48.040916Z",
     "shell.execute_reply.started": "2021-05-26T15:10:26.680334Z"
    }
   },
   "outputs": [
    {
     "name": "stdout",
     "output_type": "stream",
     "text": [
      "Preparing images\n",
      "Processing image:  1 ,  0000e88ab.jpg\n",
      "Processing image:  501 ,  04c72257b.jpg\n",
      "Processing image:  1001 ,  09cacb84d.jpg\n",
      "Processing image:  1501 ,  0ef961892.jpg\n",
      "Processing image:  2001 ,  141b56a1a.jpg\n",
      "Processing image:  2501 ,  199a417aa.jpg\n",
      "Processing image:  3001 ,  1ec170983.jpg\n",
      "Processing image:  3501 ,  23f084b93.jpg\n",
      "Processing image:  4001 ,  29163ad0b.jpg\n",
      "Processing image:  4501 ,  2e0fab120.jpg\n",
      "Processing image:  5001 ,  3347515d9.jpg\n",
      "Processing image:  5501 ,  3842d71dc.jpg\n",
      "Processing image:  6001 ,  3d7f4c7d5.jpg\n",
      "Processing image:  6501 ,  425f763ca.jpg\n",
      "Processing image:  7001 ,  4714400cd.jpg\n",
      "Processing image:  7501 ,  4c082fbdf.jpg\n",
      "Processing image:  8001 ,  50c683e23.jpg\n",
      "Processing image:  8501 ,  560d986ad.jpg\n",
      "Processing image:  9001 ,  5b68c83ed.jpg\n",
      "Processing image:  9501 ,  60410f111.jpg\n",
      "Processing image:  10001 ,  654951f81.jpg\n",
      "Processing image:  10501 ,  6a572256c.jpg\n",
      "Processing image:  11001 ,  6f96f55b6.jpg\n",
      "Processing image:  11501 ,  74da2b511.jpg\n",
      "Processing image:  12001 ,  7989d9a27.jpg\n",
      "Processing image:  12501 ,  7e5aa2d8a.jpg\n",
      "Processing image:  13001 ,  832382cfb.jpg\n",
      "Processing image:  13501 ,  87f6c0a15.jpg\n",
      "Processing image:  14001 ,  8cfc22e5d.jpg\n",
      "Processing image:  14501 ,  91dcfedcd.jpg\n",
      "Processing image:  15001 ,  97079398e.jpg\n",
      "Processing image:  15501 ,  9c2ad64a9.jpg\n",
      "Processing image:  16001 ,  a11956dff.jpg\n",
      "Processing image:  16501 ,  a5f9ffe86.jpg\n",
      "Processing image:  17001 ,  aaf1a967b.jpg\n",
      "Processing image:  17501 ,  af9a1ffc6.jpg\n",
      "Processing image:  18001 ,  b4e02531d.jpg\n",
      "Processing image:  18501 ,  ba2355ca6.jpg\n",
      "Processing image:  19001 ,  bf60e7fed.jpg\n",
      "Processing image:  19501 ,  c49f39ce3.jpg\n",
      "Processing image:  20001 ,  c960111d0.jpg\n",
      "Processing image:  20501 ,  ce7984d8a.jpg\n",
      "Processing image:  21001 ,  d38efaec9.jpg\n",
      "Processing image:  21501 ,  d831d28ee.jpg\n",
      "Processing image:  22001 ,  dd3ca2387.jpg\n",
      "Processing image:  22501 ,  e288d66cf.jpg\n",
      "Processing image:  23001 ,  e7cc793db.jpg\n",
      "Processing image:  23501 ,  ec8c7229d.jpg\n",
      "Processing image:  24001 ,  f1b850552.jpg\n",
      "Processing image:  24501 ,  f6af8a4b8.jpg\n",
      "Processing image:  25001 ,  fc09f2302.jpg\n",
      "Finished!\n"
     ]
    }
   ],
   "source": [
    "print(\"Preparing images\")\n",
    "    \n",
    "X_train = np.zeros((len(train_labels), img_height, img_width, 1))\n",
    "count = 0\n",
    "\n",
    "for fig in train_labels['Image']:\n",
    "    #load images into images of size 100x100x3\n",
    "    img = image.load_img(train_dir + fig, color_mode = 'grayscale', target_size=(img_height, img_width, 1))\n",
    "    x = image.img_to_array(img)\n",
    "    #x = np.expand_dims(x, axis=0)\n",
    "    #x = preprocess_input(x)\n",
    "    X_train[count] = x\n",
    "    if (count%500 == 0):\n",
    "        print(\"Processing image: \", count+1, \", \", fig)\n",
    "    count += 1\n",
    "\n",
    "count = 0\n",
    "\n",
    "print(\"Finished!\")"
   ]
  },
  {
   "cell_type": "code",
   "execution_count": 6,
   "metadata": {},
   "outputs": [
    {
     "name": "stdout",
     "output_type": "stream",
     "text": [
      "Preparing test images\n",
      "Processing image:  1 ,  00028a005.jpg\n",
      "Processing image:  501 ,  0f9219c40.jpg\n",
      "Processing image:  1001 ,  1ea95c247.jpg\n",
      "Processing image:  1501 ,  2fe4ec2d5.jpg\n",
      "Processing image:  2001 ,  404206f77.jpg\n",
      "Processing image:  2501 ,  4fc69fd82.jpg\n",
      "Processing image:  3001 ,  5ffc2d300.jpg\n",
      "Processing image:  3501 ,  7042be267.jpg\n",
      "Processing image:  4001 ,  801c6a722.jpg\n",
      "Processing image:  4501 ,  906aa36c8.jpg\n",
      "Processing image:  5001 ,  a0d337cdc.jpg\n",
      "Processing image:  5501 ,  b1a4e4c18.jpg\n",
      "Processing image:  6001 ,  c0b378682.jpg\n",
      "Processing image:  6501 ,  cfe9d9d04.jpg\n",
      "Processing image:  7001 ,  e00620fc3.jpg\n",
      "Processing image:  7501 ,  f1b504951.jpg\n",
      "Finished!\n"
     ]
    }
   ],
   "source": [
    "print(\"Preparing test images\")\n",
    "    \n",
    "X_test = np.zeros((len(test), img_height, img_width, 1))\n",
    "count = 0\n",
    "\n",
    "for fig in test:\n",
    "    #load images into images of size 100x100x3\n",
    "    img = image.load_img(test_dir + fig, color_mode = 'grayscale', target_size=(img_height, img_width, 1))\n",
    "    x = image.img_to_array(img)\n",
    "    #x = np.expand_dims(x, axis=0)\n",
    "    #x = preprocess_input(x)\n",
    "    X_test[count] = x\n",
    "    if (count%500 == 0):\n",
    "        print(\"Processing image: \", count+1, \", \", fig)\n",
    "    count += 1\n",
    "\n",
    "count = 0\n",
    "\n",
    "print(\"Finished!\")"
   ]
  },
  {
   "cell_type": "code",
   "execution_count": 7,
   "metadata": {
    "execution": {
     "iopub.execute_input": "2021-05-26T15:10:48.044131Z",
     "iopub.status.busy": "2021-05-26T15:10:48.043798Z",
     "iopub.status.idle": "2021-05-26T15:10:48.27574Z",
     "shell.execute_reply": "2021-05-26T15:10:48.274709Z",
     "shell.execute_reply.started": "2021-05-26T15:10:48.044082Z"
    }
   },
   "outputs": [
    {
     "name": "stdout",
     "output_type": "stream",
     "text": [
      "(25361,)\n",
      "[4786 3808  662 ... 3671 3103    0]\n",
      "[[0. 0. 0. ... 0. 0. 0.]\n",
      " [0. 0. 0. ... 0. 0. 0.]\n",
      " [0. 0. 0. ... 0. 0. 0.]\n",
      " ...\n",
      " [0. 0. 0. ... 0. 0. 0.]\n",
      " [0. 0. 0. ... 0. 0. 0.]\n",
      " [1. 0. 0. ... 0. 0. 0.]]\n",
      "(25361, 5005)\n",
      "(25361, 100, 100, 1)\n",
      "(7960, 100, 100, 1)\n"
     ]
    }
   ],
   "source": [
    "X = X_train/255\n",
    "X_test = X_test/255\n",
    "y = train_labels['Id']\n",
    "\n",
    "values = array(y)\n",
    "print(values.shape)\n",
    "label_encoder = LabelEncoder()\n",
    "integer_encoded = label_encoder.fit_transform(values)\n",
    "print(integer_encoded)\n",
    "onehot_encoder = OneHotEncoder(sparse=False)\n",
    "integer_encoded = integer_encoded.reshape(len(integer_encoded), 1)\n",
    "onehot_encoded = onehot_encoder.fit_transform(integer_encoded)\n",
    "print(onehot_encoded)\n",
    "y = onehot_encoded\n",
    "print(y.shape)\n",
    "print(X.shape)\n",
    "print(X_test.shape)\n",
    "\n",
    "onehot_encoder = OneHotEncoder(sparse=False)\n",
    "onehot_encoded = onehot_encoder.fit_transform(y)"
   ]
  },
  {
   "cell_type": "code",
   "execution_count": 8,
   "metadata": {},
   "outputs": [],
   "source": [
    "# Data augmentation\n",
    "\n",
    "datagen = image.ImageDataGenerator(\n",
    "        rotation_range = 40,\n",
    "        width_shift_range = 0.3,\n",
    "        height_shift_range = 0.3, \n",
    "        horizontal_flip = True, \n",
    "        vertical_flip = True,)\n",
    "datagen.fit(X)"
   ]
  },
  {
   "cell_type": "code",
   "execution_count": 10,
   "metadata": {
    "execution": {
     "iopub.execute_input": "2021-05-26T15:10:48.277408Z",
     "iopub.status.busy": "2021-05-26T15:10:48.277038Z",
     "iopub.status.idle": "2021-05-26T15:10:48.506586Z",
     "shell.execute_reply": "2021-05-26T15:10:48.505062Z",
     "shell.execute_reply.started": "2021-05-26T15:10:48.277375Z"
    }
   },
   "outputs": [
    {
     "name": "stdout",
     "output_type": "stream",
     "text": [
      "(None, 5005)\n",
      "Model: \"sequential_1\"\n",
      "_________________________________________________________________\n",
      "Layer (type)                 Output Shape              Param #   \n",
      "=================================================================\n",
      "densenet121 (Functional)     (None, 3, 3, 1024)        7031232   \n",
      "_________________________________________________________________\n",
      "flatten (Flatten)            (None, 9216)              0         \n",
      "_________________________________________________________________\n",
      "rl0 (Dense)                  (None, 512)               4719104   \n",
      "_________________________________________________________________\n",
      "rl1 (Dense)                  (None, 256)               131328    \n",
      "_________________________________________________________________\n",
      "dropout (Dropout)            (None, 256)               0         \n",
      "_________________________________________________________________\n",
      "rl2 (Dense)                  (None, 128)               32896     \n",
      "_________________________________________________________________\n",
      "dropout_1 (Dropout)          (None, 128)               0         \n",
      "_________________________________________________________________\n",
      "rl3 (Dense)                  (None, 64)                8256      \n",
      "_________________________________________________________________\n",
      "dropout_2 (Dropout)          (None, 64)                0         \n",
      "_________________________________________________________________\n",
      "rl4 (Dense)                  (None, 32)                2080      \n",
      "_________________________________________________________________\n",
      "sm (Dense)                   (None, 5005)              165165    \n",
      "=================================================================\n",
      "Total params: 12,090,061\n",
      "Trainable params: 12,006,413\n",
      "Non-trainable params: 83,648\n",
      "_________________________________________________________________\n"
     ]
    }
   ],
   "source": [
    "mod = Sequential()\n",
    "mod.add(DenseNet121(weights=None, include_top=False, input_shape=(img_height, img_width, 1)))\n",
    "#mod.add(Conv2D(32, (7, 7), strides = (1, 1), name = 'conv0', input_shape = (img_height, img_width, 1)))\n",
    "#mod.add(BatchNormalization(axis = 3, name = 'bn0'))\n",
    "#mod.add(Activation('relu'))\n",
    "#mod.add(MaxPooling2D((2, 2), name='max_pool0'))\n",
    "\n",
    "#mod.add(Conv2D(64, (3, 3), strides = (1,1), name=\"conv1\"))\n",
    "#mod.add(Activation('relu'))\n",
    "#mod.add(MaxPooling2D((2, 2), name='max_pool1'))\n",
    "\n",
    "#mod.add(Conv2D(128, (3, 3), strides = (1,1), name=\"conv2\"))\n",
    "#mod.add(Activation('relu'))\n",
    "#mod.add(MaxPooling2D((2, 2), name='max_pool2'))\n",
    "\n",
    "#mod.add(Conv2D(256, (1, 1), strides = (1,1), name=\"conv3\"))\n",
    "#mod.add(Activation('relu'))\n",
    "#mod.add(MaxPooling2D((2, 2), name='max_pool3'))\n",
    "\n",
    "#mod.add(Conv2D(512, (1, 1), strides = (1,1), name=\"conv4\"))\n",
    "#mod.add(Activation('relu'))\n",
    "#mod.add(MaxPooling2D((2, 2), name='max_pool4'))\n",
    "\n",
    "mod.add(Flatten())\n",
    "mod.add(Dense(512, activation=\"relu\", name='rl0'))\n",
    "mod.add(Dense(256, activation=\"relu\", name='rl1'))\n",
    "mod.add(Dropout(0.5))\n",
    "mod.add(Dense(128, activation=\"relu\", name='rl2'))\n",
    "mod.add(Dropout(0.5))\n",
    "mod.add(Dense(64, activation=\"relu\", name='rl3'))\n",
    "mod.add(Dropout(0.5))\n",
    "mod.add(Dense(32, activation=\"relu\", name='rl4'))\n",
    "mod.add(Dense(y.shape[1], activation='softmax', name='sm'))\n",
    "\n",
    "print(mod.output_shape)\n",
    "mod.summary()\n",
    "\n",
    "#opt = optimizers.Adam(lr=0.01, beta_1=0.9, beta_2=0.999, epsilon=None, decay=0.0, amsgrad=False)\n",
    "mod.compile(loss='categorical_crossentropy', optimizer=\"adam\", metrics=['accuracy'])\n"
   ]
  },
  {
   "cell_type": "code",
   "execution_count": 11,
   "metadata": {
    "execution": {
     "iopub.execute_input": "2021-05-26T15:10:48.518661Z",
     "iopub.status.busy": "2021-05-26T15:10:48.518243Z",
     "iopub.status.idle": "2021-05-26T15:15:22.196875Z",
     "shell.execute_reply": "2021-05-26T15:15:22.195497Z",
     "shell.execute_reply.started": "2021-05-26T15:10:48.518628Z"
    }
   },
   "outputs": [
    {
     "name": "stdout",
     "output_type": "stream",
     "text": [
      "Epoch 1/20\n",
      "792/792 [==============================] - 4010s 5s/step - loss: 6.6474 - accuracy: 0.3573\n",
      "Epoch 2/20\n",
      "792/792 [==============================] - 4184s 5s/step - loss: 5.6894 - accuracy: 0.3834\n",
      "Epoch 3/20\n",
      "792/792 [==============================] - 4025s 5s/step - loss: 5.6087 - accuracy: 0.3874\n",
      "Epoch 4/20\n",
      "792/792 [==============================] - 3908s 5s/step - loss: 5.6316 - accuracy: 0.3823\n",
      "Epoch 5/20\n",
      "792/792 [==============================] - 3899s 5s/step - loss: 5.6162 - accuracy: 0.3843\n",
      "Epoch 6/20\n",
      "792/792 [==============================] - 3904s 5s/step - loss: 5.6558 - accuracy: 0.3794\n",
      "Epoch 7/20\n",
      "792/792 [==============================] - 3876s 5s/step - loss: 5.6003 - accuracy: 0.3871\n",
      "Epoch 8/20\n",
      "792/792 [==============================] - 3872s 5s/step - loss: 5.5931 - accuracy: 0.3875\n",
      "Epoch 9/20\n",
      "792/792 [==============================] - 3870s 5s/step - loss: 5.6550 - accuracy: 0.3788\n",
      "Epoch 10/20\n",
      "792/792 [==============================] - 3899s 5s/step - loss: 5.6615 - accuracy: 0.3781\n",
      "Epoch 11/20\n",
      "792/792 [==============================] - 3870s 5s/step - loss: 5.6362 - accuracy: 0.3798\n",
      "Epoch 12/20\n",
      "792/792 [==============================] - 3867s 5s/step - loss: 5.6725 - accuracy: 0.3769\n",
      "Epoch 13/20\n",
      "792/792 [==============================] - 3870s 5s/step - loss: 5.6162 - accuracy: 0.3834\n",
      "Epoch 14/20\n",
      "792/792 [==============================] - 3869s 5s/step - loss: 5.6567 - accuracy: 0.3792\n",
      "Epoch 15/20\n",
      "792/792 [==============================] - 3912s 5s/step - loss: 5.6668 - accuracy: 0.3768\n",
      "Epoch 16/20\n",
      "792/792 [==============================] - 3885s 5s/step - loss: 5.6495 - accuracy: 0.3790\n",
      "Epoch 17/20\n",
      "792/792 [==============================] - 3872s 5s/step - loss: 5.6065 - accuracy: 0.3839\n",
      "Epoch 18/20\n",
      "792/792 [==============================] - 3866s 5s/step - loss: 5.6405 - accuracy: 0.3798\n",
      "Epoch 19/20\n",
      "792/792 [==============================] - 3880s 5s/step - loss: 5.6523 - accuracy: 0.3795\n",
      "Epoch 20/20\n",
      "792/792 [==============================] - 3873s 5s/step - loss: 5.6400 - accuracy: 0.3792\n"
     ]
    }
   ],
   "source": [
    "history = mod.fit(datagen.flow(X, y, batch_size=batch_size), steps_per_epoch=len(X) / 32, epochs=20 , verbose=1)"
   ]
  },
  {
   "cell_type": "code",
   "execution_count": 12,
   "metadata": {},
   "outputs": [
    {
     "name": "stdout",
     "output_type": "stream",
     "text": [
      "['new_whale' 'new_whale' 'new_whale' ... 'new_whale' 'new_whale'\n",
      " 'new_whale']\n"
     ]
    }
   ],
   "source": [
    "# Predicting test images\n",
    "predictions = mod.predict(X_test)\n",
    "y_classes = predictions.argmax(axis=-1)\n",
    "pred_decoded = label_encoder.inverse_transform(y_classes)\n",
    "print(pred_decoded)"
   ]
  },
  {
   "cell_type": "code",
   "execution_count": 13,
   "metadata": {},
   "outputs": [
    {
     "data": {
      "text/html": [
       "<div>\n",
       "<style scoped>\n",
       "    .dataframe tbody tr th:only-of-type {\n",
       "        vertical-align: middle;\n",
       "    }\n",
       "\n",
       "    .dataframe tbody tr th {\n",
       "        vertical-align: top;\n",
       "    }\n",
       "\n",
       "    .dataframe thead th {\n",
       "        text-align: right;\n",
       "    }\n",
       "</style>\n",
       "<table border=\"1\" class=\"dataframe\">\n",
       "  <thead>\n",
       "    <tr style=\"text-align: right;\">\n",
       "      <th></th>\n",
       "      <th>Image</th>\n",
       "      <th>Id</th>\n",
       "    </tr>\n",
       "  </thead>\n",
       "  <tbody>\n",
       "    <tr>\n",
       "      <th>0</th>\n",
       "      <td>00028a005.jpg</td>\n",
       "      <td>new_whale</td>\n",
       "    </tr>\n",
       "    <tr>\n",
       "      <th>1</th>\n",
       "      <td>000dcf7d8.jpg</td>\n",
       "      <td>new_whale</td>\n",
       "    </tr>\n",
       "    <tr>\n",
       "      <th>2</th>\n",
       "      <td>000e7c7df.jpg</td>\n",
       "      <td>new_whale</td>\n",
       "    </tr>\n",
       "    <tr>\n",
       "      <th>3</th>\n",
       "      <td>0019c34f4.jpg</td>\n",
       "      <td>new_whale</td>\n",
       "    </tr>\n",
       "    <tr>\n",
       "      <th>4</th>\n",
       "      <td>001a4d292.jpg</td>\n",
       "      <td>new_whale</td>\n",
       "    </tr>\n",
       "    <tr>\n",
       "      <th>...</th>\n",
       "      <td>...</td>\n",
       "      <td>...</td>\n",
       "    </tr>\n",
       "    <tr>\n",
       "      <th>7955</th>\n",
       "      <td>ffe7f4d86.jpg</td>\n",
       "      <td>new_whale</td>\n",
       "    </tr>\n",
       "    <tr>\n",
       "      <th>7956</th>\n",
       "      <td>ffe7fcba6.jpg</td>\n",
       "      <td>new_whale</td>\n",
       "    </tr>\n",
       "    <tr>\n",
       "      <th>7957</th>\n",
       "      <td>fff504ebd.jpg</td>\n",
       "      <td>new_whale</td>\n",
       "    </tr>\n",
       "    <tr>\n",
       "      <th>7958</th>\n",
       "      <td>fffed0665.jpg</td>\n",
       "      <td>new_whale</td>\n",
       "    </tr>\n",
       "    <tr>\n",
       "      <th>7959</th>\n",
       "      <td>ffffc6980.jpg</td>\n",
       "      <td>new_whale</td>\n",
       "    </tr>\n",
       "  </tbody>\n",
       "</table>\n",
       "<p>7960 rows × 2 columns</p>\n",
       "</div>"
      ],
      "text/plain": [
       "              Image         Id\n",
       "0     00028a005.jpg  new_whale\n",
       "1     000dcf7d8.jpg  new_whale\n",
       "2     000e7c7df.jpg  new_whale\n",
       "3     0019c34f4.jpg  new_whale\n",
       "4     001a4d292.jpg  new_whale\n",
       "...             ...        ...\n",
       "7955  ffe7f4d86.jpg  new_whale\n",
       "7956  ffe7fcba6.jpg  new_whale\n",
       "7957  fff504ebd.jpg  new_whale\n",
       "7958  fffed0665.jpg  new_whale\n",
       "7959  ffffc6980.jpg  new_whale\n",
       "\n",
       "[7960 rows x 2 columns]"
      ]
     },
     "execution_count": 13,
     "metadata": {},
     "output_type": "execute_result"
    }
   ],
   "source": [
    "# Saving predictions to csv\n",
    "d = {'Image': test, 'Id': pred_decoded}\n",
    "df = pd.DataFrame(data=d)\n",
    "df.to_csv('submission.csv',index=False)\n",
    "df"
   ]
  },
  {
   "cell_type": "code",
   "execution_count": null,
   "metadata": {},
   "outputs": [],
   "source": []
  }
 ],
 "metadata": {
  "kernelspec": {
   "display_name": "Python 3",
   "language": "python",
   "name": "python3"
  },
  "language_info": {
   "codemirror_mode": {
    "name": "ipython",
    "version": 3
   },
   "file_extension": ".py",
   "mimetype": "text/x-python",
   "name": "python",
   "nbconvert_exporter": "python",
   "pygments_lexer": "ipython3",
   "version": "3.8.5"
  }
 },
 "nbformat": 4,
 "nbformat_minor": 4
}
